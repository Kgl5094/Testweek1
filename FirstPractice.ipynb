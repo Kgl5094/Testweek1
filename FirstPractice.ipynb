{
  "nbformat": 4,
  "nbformat_minor": 0,
  "metadata": {
    "colab": {
      "name": "FirstPractice.ipynb",
      "provenance": [],
      "authorship_tag": "ABX9TyP+fq6q692ZbVdbcJd6Mx4F",
      "include_colab_link": true
    },
    "kernelspec": {
      "name": "python3",
      "display_name": "Python 3"
    }
  },
  "cells": [
    {
      "cell_type": "markdown",
      "metadata": {
        "id": "view-in-github",
        "colab_type": "text"
      },
      "source": [
        "<a href=\"https://colab.research.google.com/github/Kgl5094/Testweek1/blob/master/FirstPractice.ipynb\" target=\"_parent\"><img src=\"https://colab.research.google.com/assets/colab-badge.svg\" alt=\"Open In Colab\"/></a>"
      ]
    },
    {
      "cell_type": "markdown",
      "metadata": {
        "id": "TeiWwcLgqzDG",
        "colab_type": "text"
      },
      "source": [
        "###Do you like using Jupyter Notebooks?"
      ]
    },
    {
      "cell_type": "markdown",
      "metadata": {
        "id": "4T-F0C4nq9nr",
        "colab_type": "text"
      },
      "source": [
        "It's alright, at least it's simpler than configuring GitHub. The notebooks seem relatively simple but I wonder what complex things the coding lines do, and, more importantly, if the complex stuff is actually useful."
      ]
    },
    {
      "cell_type": "markdown",
      "metadata": {
        "id": "4ZQX5BgZrCFv",
        "colab_type": "text"
      },
      "source": [
        "###What you want to learn more about Jupyter Notebooks"
      ]
    },
    {
      "cell_type": "markdown",
      "metadata": {
        "id": "pW-LyyWDrNNk",
        "colab_type": "text"
      },
      "source": [
        "How configured can these get? How do I add color? What are the limitations of the notebooks that would require more back end stuff?"
      ]
    },
    {
      "cell_type": "markdown",
      "metadata": {
        "id": "1GLRJ0axrOkk",
        "colab_type": "text"
      },
      "source": [
        "![An excercise from my graphic design work](https://raw.githubusercontent.com/Kgl5094/Testweek1/master/Images/IMG_5840.jpg)"
      ]
    }
  ]
}